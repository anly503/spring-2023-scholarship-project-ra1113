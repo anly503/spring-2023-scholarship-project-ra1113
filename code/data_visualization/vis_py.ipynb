{
 "cells": [
  {
   "cell_type": "code",
   "execution_count": 2,
   "metadata": {},
   "outputs": [],
   "source": [
    "import pandas as pd\n",
    "import numpy as np\n",
    "import matplotlib.pyplot as plt\n",
    "import seaborn as sns\n",
    "import plotly.graph_objects as go\n",
    "import plotly.express as px\n",
    "import warnings\n",
    "warnings.filterwarnings('ignore')\n"
   ]
  },
  {
   "cell_type": "code",
   "execution_count": 35,
   "metadata": {},
   "outputs": [],
   "source": [
    "df = pd.read_csv('../../data/job_data.csv')"
   ]
  },
  {
   "cell_type": "code",
   "execution_count": 13,
   "metadata": {},
   "outputs": [
    {
     "data": {
      "text/html": [
       "<div>\n",
       "<style scoped>\n",
       "    .dataframe tbody tr th:only-of-type {\n",
       "        vertical-align: middle;\n",
       "    }\n",
       "\n",
       "    .dataframe tbody tr th {\n",
       "        vertical-align: top;\n",
       "    }\n",
       "\n",
       "    .dataframe thead th {\n",
       "        text-align: right;\n",
       "    }\n",
       "</style>\n",
       "<table border=\"1\" class=\"dataframe\">\n",
       "  <thead>\n",
       "    <tr style=\"text-align: right;\">\n",
       "      <th></th>\n",
       "      <th>Unnamed: 0</th>\n",
       "      <th>title</th>\n",
       "      <th>company_name</th>\n",
       "      <th>location</th>\n",
       "      <th>via</th>\n",
       "      <th>description</th>\n",
       "      <th>schedule_type</th>\n",
       "      <th>salary</th>\n",
       "      <th>query</th>\n",
       "      <th>qualifications</th>\n",
       "      <th>responsibilities</th>\n",
       "      <th>benefits</th>\n",
       "      <th>degree</th>\n",
       "      <th>experience</th>\n",
       "      <th>remote</th>\n",
       "    </tr>\n",
       "  </thead>\n",
       "  <tbody>\n",
       "    <tr>\n",
       "      <th>0</th>\n",
       "      <td>0</td>\n",
       "      <td>Ethereum Blockchain Developer (Remote)</td>\n",
       "      <td>Ex Populus</td>\n",
       "      <td>Anywhere</td>\n",
       "      <td>Built In</td>\n",
       "      <td>Company Overview:\\nEx Populus is a cutting-edg...</td>\n",
       "      <td>Full-time</td>\n",
       "      <td>NaN</td>\n",
       "      <td>blockchain</td>\n",
       "      <td>['2-3 years of Software Development experience...</td>\n",
       "      <td>['Design, maintain and deploy smart contracts ...</td>\n",
       "      <td>NaN</td>\n",
       "      <td>NaN</td>\n",
       "      <td>2.5</td>\n",
       "      <td>True</td>\n",
       "    </tr>\n",
       "    <tr>\n",
       "      <th>1</th>\n",
       "      <td>1</td>\n",
       "      <td>Blockchain Engineer</td>\n",
       "      <td>21.co</td>\n",
       "      <td>New York, NY</td>\n",
       "      <td>Greenhouse</td>\n",
       "      <td>We are seeking a highly motivated and skilled ...</td>\n",
       "      <td>Full-time</td>\n",
       "      <td>180000.0</td>\n",
       "      <td>blockchain</td>\n",
       "      <td>[\"Bachelor's or Master's degree in Computer Sc...</td>\n",
       "      <td>['As a Blockchain Engineer, you will be respon...</td>\n",
       "      <td>['(NYC only) Pursuant to Section 8-102 of titl...</td>\n",
       "      <td>Master's</td>\n",
       "      <td>NaN</td>\n",
       "      <td>False</td>\n",
       "    </tr>\n",
       "    <tr>\n",
       "      <th>2</th>\n",
       "      <td>2</td>\n",
       "      <td>Blockchain Course Instructor</td>\n",
       "      <td>Blockchain Institute of Technology</td>\n",
       "      <td>Anywhere</td>\n",
       "      <td>LinkedIn</td>\n",
       "      <td>Are you a blockchain, cryptocurrency, NFT, Met...</td>\n",
       "      <td>Contractor</td>\n",
       "      <td>NaN</td>\n",
       "      <td>blockchain</td>\n",
       "      <td>['3+ years of experience in blockchain, crypto...</td>\n",
       "      <td>['Our expert technical team will provide the s...</td>\n",
       "      <td>NaN</td>\n",
       "      <td>NaN</td>\n",
       "      <td>3.0</td>\n",
       "      <td>True</td>\n",
       "    </tr>\n",
       "    <tr>\n",
       "      <th>3</th>\n",
       "      <td>3</td>\n",
       "      <td>Python based - Blockchain developer to join ex...</td>\n",
       "      <td>Upwork</td>\n",
       "      <td>Anywhere</td>\n",
       "      <td>Upwork</td>\n",
       "      <td>Need someone to join our existing team to spee...</td>\n",
       "      <td>Contractor</td>\n",
       "      <td>41600.0</td>\n",
       "      <td>blockchain</td>\n",
       "      <td>['Candidates must be willing to sign, non-disc...</td>\n",
       "      <td>['Will discuss details with the selected candi...</td>\n",
       "      <td>NaN</td>\n",
       "      <td>NaN</td>\n",
       "      <td>NaN</td>\n",
       "      <td>True</td>\n",
       "    </tr>\n",
       "    <tr>\n",
       "      <th>4</th>\n",
       "      <td>4</td>\n",
       "      <td>Blockchain DevOps Engineer (Remote)</td>\n",
       "      <td>Telnyx</td>\n",
       "      <td>United States</td>\n",
       "      <td>Startup Jobs</td>\n",
       "      <td>About Telnyx\\n\\nAt Telnyx, we’re architecting ...</td>\n",
       "      <td>Full-time</td>\n",
       "      <td>NaN</td>\n",
       "      <td>blockchain</td>\n",
       "      <td>['You are a highly motivated and experienced B...</td>\n",
       "      <td>['To build a best-in-class Filecoin (FIL) Mini...</td>\n",
       "      <td>NaN</td>\n",
       "      <td>Bachelor's</td>\n",
       "      <td>NaN</td>\n",
       "      <td>True</td>\n",
       "    </tr>\n",
       "    <tr>\n",
       "      <th>5</th>\n",
       "      <td>5</td>\n",
       "      <td>Ethereum Developer Remote US (Blockchain-DeFi)</td>\n",
       "      <td>Turnblock.io</td>\n",
       "      <td>Anywhere</td>\n",
       "      <td>ZipRecruiter</td>\n",
       "      <td>Our client is on crypto’s cutting edge technol...</td>\n",
       "      <td>Full-time</td>\n",
       "      <td>150000.0</td>\n",
       "      <td>blockchain</td>\n",
       "      <td>['5+ years of development experience', 'Experi...</td>\n",
       "      <td>['As a member of an agile engineering team, yo...</td>\n",
       "      <td>['Great compensation package']</td>\n",
       "      <td>NaN</td>\n",
       "      <td>5.0</td>\n",
       "      <td>True</td>\n",
       "    </tr>\n",
       "    <tr>\n",
       "      <th>6</th>\n",
       "      <td>6</td>\n",
       "      <td>Social Media Marketing (Blockchain/Crypto)</td>\n",
       "      <td>Bitquery</td>\n",
       "      <td>Anywhere</td>\n",
       "      <td>AngelList</td>\n",
       "      <td>• Maintain a social media calendar\\n• Build Bi...</td>\n",
       "      <td>Full-time</td>\n",
       "      <td>NaN</td>\n",
       "      <td>blockchain</td>\n",
       "      <td>['English Proficiency (Written and Speaking) w...</td>\n",
       "      <td>['Put our Bitquery updates and educational con...</td>\n",
       "      <td>['Opportunity to work &amp; collaborate with a tru...</td>\n",
       "      <td>NaN</td>\n",
       "      <td>NaN</td>\n",
       "      <td>True</td>\n",
       "    </tr>\n",
       "    <tr>\n",
       "      <th>7</th>\n",
       "      <td>7</td>\n",
       "      <td>Senior Software Engineer - Blockchain Network ...</td>\n",
       "      <td>Jobot</td>\n",
       "      <td>Anywhere</td>\n",
       "      <td>Dice</td>\n",
       "      <td>competitive salaries, stock options, company p...</td>\n",
       "      <td>Full-time</td>\n",
       "      <td>175000.0</td>\n",
       "      <td>blockchain</td>\n",
       "      <td>['At least 5 years of experience with designin...</td>\n",
       "      <td>['Rotating breakfast menu served daily', 'Dinn...</td>\n",
       "      <td>['Salary: $150,000 - $200,000 per year', 'Our ...</td>\n",
       "      <td>NaN</td>\n",
       "      <td>5.0</td>\n",
       "      <td>True</td>\n",
       "    </tr>\n",
       "    <tr>\n",
       "      <th>8</th>\n",
       "      <td>8</td>\n",
       "      <td>Blockchain Developer</td>\n",
       "      <td>Atechstar</td>\n",
       "      <td>United States</td>\n",
       "      <td>OPTnation</td>\n",
       "      <td>Requirements: Strong software development back...</td>\n",
       "      <td>Full-time</td>\n",
       "      <td>141000.0</td>\n",
       "      <td>blockchain</td>\n",
       "      <td>['Requirements: Strong software development ba...</td>\n",
       "      <td>NaN</td>\n",
       "      <td>NaN</td>\n",
       "      <td>NaN</td>\n",
       "      <td>NaN</td>\n",
       "      <td>True</td>\n",
       "    </tr>\n",
       "    <tr>\n",
       "      <th>9</th>\n",
       "      <td>9</td>\n",
       "      <td>DeFi Blockchain Co-Founder</td>\n",
       "      <td>Cryptops Exchange</td>\n",
       "      <td>Anywhere</td>\n",
       "      <td>LinkedIn</td>\n",
       "      <td>Cryptops is currently looking for a Co-Founder...</td>\n",
       "      <td>Full-time</td>\n",
       "      <td>NaN</td>\n",
       "      <td>blockchain</td>\n",
       "      <td>['Can personally invest or immediately support...</td>\n",
       "      <td>['Other decentralized derivatives exchanges re...</td>\n",
       "      <td>NaN</td>\n",
       "      <td>NaN</td>\n",
       "      <td>NaN</td>\n",
       "      <td>True</td>\n",
       "    </tr>\n",
       "  </tbody>\n",
       "</table>\n",
       "</div>"
      ],
      "text/plain": [
       "   Unnamed: 0                                              title  \\\n",
       "0           0             Ethereum Blockchain Developer (Remote)   \n",
       "1           1                                Blockchain Engineer   \n",
       "2           2                       Blockchain Course Instructor   \n",
       "3           3  Python based - Blockchain developer to join ex...   \n",
       "4           4                Blockchain DevOps Engineer (Remote)   \n",
       "5           5     Ethereum Developer Remote US (Blockchain-DeFi)   \n",
       "6           6         Social Media Marketing (Blockchain/Crypto)   \n",
       "7           7  Senior Software Engineer - Blockchain Network ...   \n",
       "8           8                               Blockchain Developer   \n",
       "9           9                         DeFi Blockchain Co-Founder   \n",
       "\n",
       "                         company_name       location           via  \\\n",
       "0                          Ex Populus       Anywhere      Built In   \n",
       "1                               21.co   New York, NY    Greenhouse   \n",
       "2  Blockchain Institute of Technology       Anywhere      LinkedIn   \n",
       "3                              Upwork       Anywhere        Upwork   \n",
       "4                              Telnyx  United States  Startup Jobs   \n",
       "5                        Turnblock.io       Anywhere  ZipRecruiter   \n",
       "6                            Bitquery       Anywhere     AngelList   \n",
       "7                               Jobot       Anywhere          Dice   \n",
       "8                           Atechstar  United States     OPTnation   \n",
       "9                   Cryptops Exchange       Anywhere      LinkedIn   \n",
       "\n",
       "                                         description schedule_type    salary  \\\n",
       "0  Company Overview:\\nEx Populus is a cutting-edg...     Full-time       NaN   \n",
       "1  We are seeking a highly motivated and skilled ...     Full-time  180000.0   \n",
       "2  Are you a blockchain, cryptocurrency, NFT, Met...    Contractor       NaN   \n",
       "3  Need someone to join our existing team to spee...    Contractor   41600.0   \n",
       "4  About Telnyx\\n\\nAt Telnyx, we’re architecting ...     Full-time       NaN   \n",
       "5  Our client is on crypto’s cutting edge technol...     Full-time  150000.0   \n",
       "6  • Maintain a social media calendar\\n• Build Bi...     Full-time       NaN   \n",
       "7  competitive salaries, stock options, company p...     Full-time  175000.0   \n",
       "8  Requirements: Strong software development back...     Full-time  141000.0   \n",
       "9  Cryptops is currently looking for a Co-Founder...     Full-time       NaN   \n",
       "\n",
       "        query                                     qualifications  \\\n",
       "0  blockchain  ['2-3 years of Software Development experience...   \n",
       "1  blockchain  [\"Bachelor's or Master's degree in Computer Sc...   \n",
       "2  blockchain  ['3+ years of experience in blockchain, crypto...   \n",
       "3  blockchain  ['Candidates must be willing to sign, non-disc...   \n",
       "4  blockchain  ['You are a highly motivated and experienced B...   \n",
       "5  blockchain  ['5+ years of development experience', 'Experi...   \n",
       "6  blockchain  ['English Proficiency (Written and Speaking) w...   \n",
       "7  blockchain  ['At least 5 years of experience with designin...   \n",
       "8  blockchain  ['Requirements: Strong software development ba...   \n",
       "9  blockchain  ['Can personally invest or immediately support...   \n",
       "\n",
       "                                    responsibilities  \\\n",
       "0  ['Design, maintain and deploy smart contracts ...   \n",
       "1  ['As a Blockchain Engineer, you will be respon...   \n",
       "2  ['Our expert technical team will provide the s...   \n",
       "3  ['Will discuss details with the selected candi...   \n",
       "4  ['To build a best-in-class Filecoin (FIL) Mini...   \n",
       "5  ['As a member of an agile engineering team, yo...   \n",
       "6  ['Put our Bitquery updates and educational con...   \n",
       "7  ['Rotating breakfast menu served daily', 'Dinn...   \n",
       "8                                                NaN   \n",
       "9  ['Other decentralized derivatives exchanges re...   \n",
       "\n",
       "                                            benefits      degree  experience  \\\n",
       "0                                                NaN         NaN         2.5   \n",
       "1  ['(NYC only) Pursuant to Section 8-102 of titl...    Master's         NaN   \n",
       "2                                                NaN         NaN         3.0   \n",
       "3                                                NaN         NaN         NaN   \n",
       "4                                                NaN  Bachelor's         NaN   \n",
       "5                     ['Great compensation package']         NaN         5.0   \n",
       "6  ['Opportunity to work & collaborate with a tru...         NaN         NaN   \n",
       "7  ['Salary: $150,000 - $200,000 per year', 'Our ...         NaN         5.0   \n",
       "8                                                NaN         NaN         NaN   \n",
       "9                                                NaN         NaN         NaN   \n",
       "\n",
       "   remote  \n",
       "0    True  \n",
       "1   False  \n",
       "2    True  \n",
       "3    True  \n",
       "4    True  \n",
       "5    True  \n",
       "6    True  \n",
       "7    True  \n",
       "8    True  \n",
       "9    True  "
      ]
     },
     "execution_count": 13,
     "metadata": {},
     "output_type": "execute_result"
    }
   ],
   "source": [
    "df.head(10)"
   ]
  },
  {
   "cell_type": "code",
   "execution_count": 76,
   "metadata": {},
   "outputs": [
    {
     "data": {
      "application/vnd.plotly.v1+json": {
       "config": {
        "plotlyServerURL": "https://plot.ly"
       },
       "data": [
        {
         "marker": {
          "color": "lightseagreen"
         },
         "name": "False",
         "type": "box",
         "y": [
          180000,
          null,
          null,
          49920,
          null,
          null,
          null,
          null,
          null,
          null,
          null,
          null,
          136800,
          null,
          null,
          95700,
          null,
          null,
          null,
          null,
          null,
          null,
          120000,
          null,
          182000,
          null,
          null,
          236300,
          null,
          145500,
          225900,
          122795,
          114400,
          null,
          null,
          null,
          null,
          null,
          null,
          152650,
          null,
          null,
          null,
          null,
          null,
          113191,
          null,
          null,
          115500,
          null,
          null,
          null,
          null,
          null,
          147500,
          null,
          null,
          49920,
          null,
          null,
          null,
          null,
          219000,
          155000,
          null,
          null,
          null,
          null,
          219000,
          null,
          null,
          49920,
          209000,
          null,
          148500,
          49920,
          49920,
          49920,
          209000,
          null,
          null,
          219500,
          null,
          190500,
          null,
          245000,
          null,
          187200,
          null,
          null,
          null,
          null,
          119000,
          157500,
          null,
          225900,
          236300,
          null,
          112000,
          49920,
          49920,
          null,
          122795,
          152650,
          null,
          62500,
          null,
          163500,
          null,
          null,
          119550,
          null,
          null,
          122500,
          119550,
          149275,
          113257,
          150000,
          49920,
          119550,
          null,
          null,
          125450,
          119550,
          147100,
          150000,
          175000,
          null,
          150000,
          207000,
          null,
          49920,
          186000,
          160250,
          110000,
          null,
          null,
          180000,
          null,
          49920,
          null,
          null,
          203556,
          null,
          112000,
          null,
          104673,
          104673,
          null,
          152650,
          225900,
          114400,
          null,
          null,
          null,
          112000,
          null,
          null,
          null,
          49920,
          null,
          null,
          152650,
          null,
          null,
          152650,
          null,
          49920,
          null,
          null,
          186000,
          null,
          190500,
          null,
          93600,
          196200,
          null,
          282220,
          null,
          282220,
          null,
          null,
          null,
          null,
          null,
          null,
          null,
          384458,
          132368,
          119550,
          null,
          null,
          null,
          62500,
          108540,
          null,
          150000,
          155000,
          49920,
          null,
          null,
          188000,
          100000,
          null,
          187200,
          null,
          136644,
          null,
          49920,
          125000,
          null,
          null,
          null,
          180000,
          null,
          150000,
          null,
          null,
          null,
          175000,
          null,
          null,
          186000,
          87046,
          null,
          49920,
          null,
          null,
          142600,
          null,
          null,
          null,
          null,
          null,
          null,
          null,
          null,
          null,
          null,
          null,
          null,
          147500,
          25000,
          49920,
          null,
          null,
          155000,
          null,
          null,
          null,
          null,
          133900,
          null,
          135500,
          null,
          null,
          null,
          null,
          null,
          null,
          null,
          null,
          null,
          null,
          null,
          150000,
          null,
          199700,
          196200,
          186000,
          265500,
          245000,
          null,
          null,
          null,
          209000,
          null,
          null,
          null,
          null,
          300000,
          null,
          null,
          180900,
          null,
          150000,
          null,
          136644,
          null,
          null,
          49920,
          null,
          null,
          156000,
          null,
          156650,
          174080,
          null,
          null,
          null,
          112050,
          155000,
          null,
          150000,
          null,
          186000,
          null,
          245000,
          202550,
          null,
          null,
          null,
          null,
          null,
          null,
          156900,
          135200,
          null,
          null,
          null,
          null,
          null,
          null,
          49920,
          null,
          null,
          null,
          59000,
          null,
          null,
          null,
          35796,
          null,
          null,
          null,
          null,
          null,
          null,
          null,
          196200,
          286250,
          207000,
          null,
          245000,
          199700,
          null,
          35796,
          null,
          null,
          null,
          null,
          135500,
          400000,
          null,
          null,
          null,
          null,
          null,
          null,
          null,
          null,
          null,
          219000,
          null,
          null,
          49920,
          186000,
          136644,
          null,
          null,
          180000,
          null,
          null,
          null,
          180000,
          190500,
          159982,
          null,
          null,
          180000,
          120600,
          104673,
          150000,
          112000,
          100000,
          160250,
          null,
          207125,
          190000,
          null,
          null,
          null,
          null,
          null,
          null,
          125000,
          null,
          null,
          87549,
          null,
          null,
          null,
          null,
          null,
          null,
          null,
          null,
          null,
          null,
          49920,
          145600,
          90000,
          49920,
          null,
          207000,
          196200,
          165000,
          125000,
          null,
          null,
          150000,
          null,
          152650,
          null,
          null,
          null,
          136800,
          49920,
          null,
          null,
          null,
          null,
          null,
          null,
          157500,
          119000,
          49920,
          null,
          49920,
          null,
          203556,
          164000,
          152650,
          186000,
          null,
          165000,
          55500,
          null,
          null,
          null,
          null,
          49920,
          null,
          null,
          257000,
          null,
          null,
          null,
          78517,
          null,
          65000,
          null,
          187200,
          188000,
          null,
          null,
          null,
          49920,
          null,
          null,
          null,
          null,
          null,
          null,
          null,
          117782,
          114870,
          null,
          null,
          null,
          null,
          null,
          49920,
          175000,
          165000,
          null,
          186000,
          null,
          106080,
          157175,
          49920,
          null,
          null,
          204000,
          null,
          null,
          null,
          null,
          null,
          null,
          null,
          124400,
          null,
          null,
          152000,
          null,
          null,
          null,
          121000,
          136644,
          null,
          null,
          null,
          253000,
          null,
          null,
          null,
          null,
          186000,
          null,
          108540,
          null,
          219500,
          180000,
          null,
          null,
          104673,
          null,
          null,
          null,
          186000,
          155000,
          110000,
          null,
          155000,
          253000,
          null,
          null,
          null,
          null,
          null,
          219000,
          null,
          null,
          null,
          null,
          172500,
          161200,
          null,
          null,
          150000,
          150000,
          118000,
          49920,
          104500,
          117660,
          null,
          115000,
          206000,
          196200,
          170560,
          null,
          87046,
          null,
          null,
          null,
          160000,
          null,
          null,
          null,
          null,
          25000,
          null,
          133900,
          155000,
          null,
          null,
          null,
          null,
          null,
          176000,
          null,
          155000,
          null,
          null,
          176000,
          147500,
          49920,
          null,
          null,
          102500,
          null,
          null,
          null,
          null,
          null,
          null,
          157175,
          174480,
          null,
          null,
          null,
          null,
          49920,
          null,
          205000,
          null,
          null,
          null,
          125000,
          null,
          253000,
          136644
         ]
        },
        {
         "marker": {
          "color": "indianred"
         },
         "name": "True",
         "type": "box",
         "y": [
          null,
          null,
          41600,
          null,
          150000,
          null,
          175000,
          141000,
          null,
          55526,
          134500,
          155000,
          null,
          null,
          null,
          null,
          null,
          null,
          null,
          75000,
          null,
          167500,
          null,
          104673,
          120000,
          null,
          155000,
          null,
          null,
          109200,
          null,
          36400,
          36400,
          null,
          null,
          null,
          88400,
          187200,
          null,
          93600,
          175000,
          null,
          null,
          109200,
          null,
          null,
          null,
          168250,
          null,
          168250,
          150000,
          null,
          null,
          null,
          null,
          134000,
          null,
          null,
          170000,
          null,
          null,
          null,
          null,
          300000,
          null,
          228800,
          null,
          192500,
          105000,
          109200,
          null,
          null,
          null,
          150000,
          null,
          240000,
          65000,
          null,
          null,
          null,
          null,
          null,
          null,
          96976,
          null,
          134500,
          null,
          155000,
          null,
          null,
          null,
          null,
          null,
          104000,
          null,
          null,
          null,
          130000,
          54080,
          null,
          120000,
          85000,
          null,
          null,
          222000,
          null,
          null,
          null,
          297500,
          192500,
          207125,
          null,
          null,
          null,
          null,
          null,
          null,
          109200,
          null,
          null,
          null,
          null,
          null,
          null,
          167500,
          120000,
          null,
          104673,
          36400,
          null,
          86000,
          229500,
          null,
          112500,
          220000,
          135000,
          180250,
          null,
          null,
          null,
          null,
          null,
          null,
          36400,
          null,
          null,
          null,
          86050,
          null,
          123500,
          53035,
          100000,
          88400,
          null,
          175000,
          null,
          134000,
          null,
          null,
          null,
          119550,
          136284,
          null,
          109200,
          null,
          null,
          165000,
          207125,
          228800,
          null,
          null,
          180000,
          null,
          229500,
          155000,
          null,
          null,
          null,
          170000,
          93600,
          109200,
          147500,
          null,
          null,
          null,
          175000,
          null,
          null,
          43680,
          113000,
          null,
          75000,
          22070,
          null,
          null,
          null,
          null,
          null,
          null,
          null,
          109200,
          130000,
          152650,
          null,
          200000,
          240000,
          null,
          null,
          null,
          null
         ]
        }
       ],
       "layout": {
        "template": {
         "data": {
          "bar": [
           {
            "error_x": {
             "color": "#f2f5fa"
            },
            "error_y": {
             "color": "#f2f5fa"
            },
            "marker": {
             "line": {
              "color": "rgb(17,17,17)",
              "width": 0.5
             },
             "pattern": {
              "fillmode": "overlay",
              "size": 10,
              "solidity": 0.2
             }
            },
            "type": "bar"
           }
          ],
          "barpolar": [
           {
            "marker": {
             "line": {
              "color": "rgb(17,17,17)",
              "width": 0.5
             },
             "pattern": {
              "fillmode": "overlay",
              "size": 10,
              "solidity": 0.2
             }
            },
            "type": "barpolar"
           }
          ],
          "carpet": [
           {
            "aaxis": {
             "endlinecolor": "#A2B1C6",
             "gridcolor": "#506784",
             "linecolor": "#506784",
             "minorgridcolor": "#506784",
             "startlinecolor": "#A2B1C6"
            },
            "baxis": {
             "endlinecolor": "#A2B1C6",
             "gridcolor": "#506784",
             "linecolor": "#506784",
             "minorgridcolor": "#506784",
             "startlinecolor": "#A2B1C6"
            },
            "type": "carpet"
           }
          ],
          "choropleth": [
           {
            "colorbar": {
             "outlinewidth": 0,
             "ticks": ""
            },
            "type": "choropleth"
           }
          ],
          "contour": [
           {
            "colorbar": {
             "outlinewidth": 0,
             "ticks": ""
            },
            "colorscale": [
             [
              0,
              "#0d0887"
             ],
             [
              0.1111111111111111,
              "#46039f"
             ],
             [
              0.2222222222222222,
              "#7201a8"
             ],
             [
              0.3333333333333333,
              "#9c179e"
             ],
             [
              0.4444444444444444,
              "#bd3786"
             ],
             [
              0.5555555555555556,
              "#d8576b"
             ],
             [
              0.6666666666666666,
              "#ed7953"
             ],
             [
              0.7777777777777778,
              "#fb9f3a"
             ],
             [
              0.8888888888888888,
              "#fdca26"
             ],
             [
              1,
              "#f0f921"
             ]
            ],
            "type": "contour"
           }
          ],
          "contourcarpet": [
           {
            "colorbar": {
             "outlinewidth": 0,
             "ticks": ""
            },
            "type": "contourcarpet"
           }
          ],
          "heatmap": [
           {
            "colorbar": {
             "outlinewidth": 0,
             "ticks": ""
            },
            "colorscale": [
             [
              0,
              "#0d0887"
             ],
             [
              0.1111111111111111,
              "#46039f"
             ],
             [
              0.2222222222222222,
              "#7201a8"
             ],
             [
              0.3333333333333333,
              "#9c179e"
             ],
             [
              0.4444444444444444,
              "#bd3786"
             ],
             [
              0.5555555555555556,
              "#d8576b"
             ],
             [
              0.6666666666666666,
              "#ed7953"
             ],
             [
              0.7777777777777778,
              "#fb9f3a"
             ],
             [
              0.8888888888888888,
              "#fdca26"
             ],
             [
              1,
              "#f0f921"
             ]
            ],
            "type": "heatmap"
           }
          ],
          "heatmapgl": [
           {
            "colorbar": {
             "outlinewidth": 0,
             "ticks": ""
            },
            "colorscale": [
             [
              0,
              "#0d0887"
             ],
             [
              0.1111111111111111,
              "#46039f"
             ],
             [
              0.2222222222222222,
              "#7201a8"
             ],
             [
              0.3333333333333333,
              "#9c179e"
             ],
             [
              0.4444444444444444,
              "#bd3786"
             ],
             [
              0.5555555555555556,
              "#d8576b"
             ],
             [
              0.6666666666666666,
              "#ed7953"
             ],
             [
              0.7777777777777778,
              "#fb9f3a"
             ],
             [
              0.8888888888888888,
              "#fdca26"
             ],
             [
              1,
              "#f0f921"
             ]
            ],
            "type": "heatmapgl"
           }
          ],
          "histogram": [
           {
            "marker": {
             "pattern": {
              "fillmode": "overlay",
              "size": 10,
              "solidity": 0.2
             }
            },
            "type": "histogram"
           }
          ],
          "histogram2d": [
           {
            "colorbar": {
             "outlinewidth": 0,
             "ticks": ""
            },
            "colorscale": [
             [
              0,
              "#0d0887"
             ],
             [
              0.1111111111111111,
              "#46039f"
             ],
             [
              0.2222222222222222,
              "#7201a8"
             ],
             [
              0.3333333333333333,
              "#9c179e"
             ],
             [
              0.4444444444444444,
              "#bd3786"
             ],
             [
              0.5555555555555556,
              "#d8576b"
             ],
             [
              0.6666666666666666,
              "#ed7953"
             ],
             [
              0.7777777777777778,
              "#fb9f3a"
             ],
             [
              0.8888888888888888,
              "#fdca26"
             ],
             [
              1,
              "#f0f921"
             ]
            ],
            "type": "histogram2d"
           }
          ],
          "histogram2dcontour": [
           {
            "colorbar": {
             "outlinewidth": 0,
             "ticks": ""
            },
            "colorscale": [
             [
              0,
              "#0d0887"
             ],
             [
              0.1111111111111111,
              "#46039f"
             ],
             [
              0.2222222222222222,
              "#7201a8"
             ],
             [
              0.3333333333333333,
              "#9c179e"
             ],
             [
              0.4444444444444444,
              "#bd3786"
             ],
             [
              0.5555555555555556,
              "#d8576b"
             ],
             [
              0.6666666666666666,
              "#ed7953"
             ],
             [
              0.7777777777777778,
              "#fb9f3a"
             ],
             [
              0.8888888888888888,
              "#fdca26"
             ],
             [
              1,
              "#f0f921"
             ]
            ],
            "type": "histogram2dcontour"
           }
          ],
          "mesh3d": [
           {
            "colorbar": {
             "outlinewidth": 0,
             "ticks": ""
            },
            "type": "mesh3d"
           }
          ],
          "parcoords": [
           {
            "line": {
             "colorbar": {
              "outlinewidth": 0,
              "ticks": ""
             }
            },
            "type": "parcoords"
           }
          ],
          "pie": [
           {
            "automargin": true,
            "type": "pie"
           }
          ],
          "scatter": [
           {
            "marker": {
             "line": {
              "color": "#283442"
             }
            },
            "type": "scatter"
           }
          ],
          "scatter3d": [
           {
            "line": {
             "colorbar": {
              "outlinewidth": 0,
              "ticks": ""
             }
            },
            "marker": {
             "colorbar": {
              "outlinewidth": 0,
              "ticks": ""
             }
            },
            "type": "scatter3d"
           }
          ],
          "scattercarpet": [
           {
            "marker": {
             "colorbar": {
              "outlinewidth": 0,
              "ticks": ""
             }
            },
            "type": "scattercarpet"
           }
          ],
          "scattergeo": [
           {
            "marker": {
             "colorbar": {
              "outlinewidth": 0,
              "ticks": ""
             }
            },
            "type": "scattergeo"
           }
          ],
          "scattergl": [
           {
            "marker": {
             "line": {
              "color": "#283442"
             }
            },
            "type": "scattergl"
           }
          ],
          "scattermapbox": [
           {
            "marker": {
             "colorbar": {
              "outlinewidth": 0,
              "ticks": ""
             }
            },
            "type": "scattermapbox"
           }
          ],
          "scatterpolar": [
           {
            "marker": {
             "colorbar": {
              "outlinewidth": 0,
              "ticks": ""
             }
            },
            "type": "scatterpolar"
           }
          ],
          "scatterpolargl": [
           {
            "marker": {
             "colorbar": {
              "outlinewidth": 0,
              "ticks": ""
             }
            },
            "type": "scatterpolargl"
           }
          ],
          "scatterternary": [
           {
            "marker": {
             "colorbar": {
              "outlinewidth": 0,
              "ticks": ""
             }
            },
            "type": "scatterternary"
           }
          ],
          "surface": [
           {
            "colorbar": {
             "outlinewidth": 0,
             "ticks": ""
            },
            "colorscale": [
             [
              0,
              "#0d0887"
             ],
             [
              0.1111111111111111,
              "#46039f"
             ],
             [
              0.2222222222222222,
              "#7201a8"
             ],
             [
              0.3333333333333333,
              "#9c179e"
             ],
             [
              0.4444444444444444,
              "#bd3786"
             ],
             [
              0.5555555555555556,
              "#d8576b"
             ],
             [
              0.6666666666666666,
              "#ed7953"
             ],
             [
              0.7777777777777778,
              "#fb9f3a"
             ],
             [
              0.8888888888888888,
              "#fdca26"
             ],
             [
              1,
              "#f0f921"
             ]
            ],
            "type": "surface"
           }
          ],
          "table": [
           {
            "cells": {
             "fill": {
              "color": "#506784"
             },
             "line": {
              "color": "rgb(17,17,17)"
             }
            },
            "header": {
             "fill": {
              "color": "#2a3f5f"
             },
             "line": {
              "color": "rgb(17,17,17)"
             }
            },
            "type": "table"
           }
          ]
         },
         "layout": {
          "annotationdefaults": {
           "arrowcolor": "#f2f5fa",
           "arrowhead": 0,
           "arrowwidth": 1
          },
          "autotypenumbers": "strict",
          "coloraxis": {
           "colorbar": {
            "outlinewidth": 0,
            "ticks": ""
           }
          },
          "colorscale": {
           "diverging": [
            [
             0,
             "#8e0152"
            ],
            [
             0.1,
             "#c51b7d"
            ],
            [
             0.2,
             "#de77ae"
            ],
            [
             0.3,
             "#f1b6da"
            ],
            [
             0.4,
             "#fde0ef"
            ],
            [
             0.5,
             "#f7f7f7"
            ],
            [
             0.6,
             "#e6f5d0"
            ],
            [
             0.7,
             "#b8e186"
            ],
            [
             0.8,
             "#7fbc41"
            ],
            [
             0.9,
             "#4d9221"
            ],
            [
             1,
             "#276419"
            ]
           ],
           "sequential": [
            [
             0,
             "#0d0887"
            ],
            [
             0.1111111111111111,
             "#46039f"
            ],
            [
             0.2222222222222222,
             "#7201a8"
            ],
            [
             0.3333333333333333,
             "#9c179e"
            ],
            [
             0.4444444444444444,
             "#bd3786"
            ],
            [
             0.5555555555555556,
             "#d8576b"
            ],
            [
             0.6666666666666666,
             "#ed7953"
            ],
            [
             0.7777777777777778,
             "#fb9f3a"
            ],
            [
             0.8888888888888888,
             "#fdca26"
            ],
            [
             1,
             "#f0f921"
            ]
           ],
           "sequentialminus": [
            [
             0,
             "#0d0887"
            ],
            [
             0.1111111111111111,
             "#46039f"
            ],
            [
             0.2222222222222222,
             "#7201a8"
            ],
            [
             0.3333333333333333,
             "#9c179e"
            ],
            [
             0.4444444444444444,
             "#bd3786"
            ],
            [
             0.5555555555555556,
             "#d8576b"
            ],
            [
             0.6666666666666666,
             "#ed7953"
            ],
            [
             0.7777777777777778,
             "#fb9f3a"
            ],
            [
             0.8888888888888888,
             "#fdca26"
            ],
            [
             1,
             "#f0f921"
            ]
           ]
          },
          "colorway": [
           "#636efa",
           "#EF553B",
           "#00cc96",
           "#ab63fa",
           "#FFA15A",
           "#19d3f3",
           "#FF6692",
           "#B6E880",
           "#FF97FF",
           "#FECB52"
          ],
          "font": {
           "color": "#f2f5fa"
          },
          "geo": {
           "bgcolor": "rgb(17,17,17)",
           "lakecolor": "rgb(17,17,17)",
           "landcolor": "rgb(17,17,17)",
           "showlakes": true,
           "showland": true,
           "subunitcolor": "#506784"
          },
          "hoverlabel": {
           "align": "left"
          },
          "hovermode": "closest",
          "mapbox": {
           "style": "dark"
          },
          "paper_bgcolor": "rgb(17,17,17)",
          "plot_bgcolor": "rgb(17,17,17)",
          "polar": {
           "angularaxis": {
            "gridcolor": "#506784",
            "linecolor": "#506784",
            "ticks": ""
           },
           "bgcolor": "rgb(17,17,17)",
           "radialaxis": {
            "gridcolor": "#506784",
            "linecolor": "#506784",
            "ticks": ""
           }
          },
          "scene": {
           "xaxis": {
            "backgroundcolor": "rgb(17,17,17)",
            "gridcolor": "#506784",
            "gridwidth": 2,
            "linecolor": "#506784",
            "showbackground": true,
            "ticks": "",
            "zerolinecolor": "#C8D4E3"
           },
           "yaxis": {
            "backgroundcolor": "rgb(17,17,17)",
            "gridcolor": "#506784",
            "gridwidth": 2,
            "linecolor": "#506784",
            "showbackground": true,
            "ticks": "",
            "zerolinecolor": "#C8D4E3"
           },
           "zaxis": {
            "backgroundcolor": "rgb(17,17,17)",
            "gridcolor": "#506784",
            "gridwidth": 2,
            "linecolor": "#506784",
            "showbackground": true,
            "ticks": "",
            "zerolinecolor": "#C8D4E3"
           }
          },
          "shapedefaults": {
           "line": {
            "color": "#f2f5fa"
           }
          },
          "sliderdefaults": {
           "bgcolor": "#C8D4E3",
           "bordercolor": "rgb(17,17,17)",
           "borderwidth": 1,
           "tickwidth": 0
          },
          "ternary": {
           "aaxis": {
            "gridcolor": "#506784",
            "linecolor": "#506784",
            "ticks": ""
           },
           "baxis": {
            "gridcolor": "#506784",
            "linecolor": "#506784",
            "ticks": ""
           },
           "bgcolor": "rgb(17,17,17)",
           "caxis": {
            "gridcolor": "#506784",
            "linecolor": "#506784",
            "ticks": ""
           }
          },
          "title": {
           "x": 0.05
          },
          "updatemenudefaults": {
           "bgcolor": "#506784",
           "borderwidth": 0
          },
          "xaxis": {
           "automargin": true,
           "gridcolor": "#283442",
           "linecolor": "#506784",
           "ticks": "",
           "title": {
            "standoff": 15
           },
           "zerolinecolor": "#283442",
           "zerolinewidth": 2
          },
          "yaxis": {
           "automargin": true,
           "gridcolor": "#283442",
           "linecolor": "#506784",
           "ticks": "",
           "title": {
            "standoff": 15
           },
           "zerolinecolor": "#283442",
           "zerolinewidth": 2
          }
         }
        },
        "title": {
         "text": "Salaries by Remote Work Status, for Different Degree Holders"
        },
        "updatemenus": [
         {
          "buttons": [
           {
            "args": [
             {
              "y": [
               [
                null,
                null,
                75000,
                120000,
                168250,
                168250,
                null,
                300000,
                null,
                105000,
                null,
                null,
                null,
                null,
                120000,
                null,
                123500,
                null,
                119550,
                155000,
                null,
                null,
                75000,
                22070,
                null,
                null,
                200000
               ],
               [
                49920,
                null,
                136800,
                null,
                95700,
                null,
                null,
                182000,
                236300,
                122795,
                null,
                152650,
                null,
                null,
                113191,
                null,
                115500,
                null,
                219000,
                219000,
                209000,
                49920,
                209000,
                236300,
                49920,
                null,
                122795,
                62500,
                null,
                null,
                113257,
                150000,
                119550,
                null,
                152650,
                null,
                null,
                152650,
                null,
                null,
                null,
                62500,
                150000,
                null,
                null,
                87046,
                142600,
                null,
                null,
                null,
                null,
                null,
                null,
                155000,
                133900,
                null,
                null,
                null,
                null,
                null,
                null,
                265500,
                null,
                null,
                209000,
                null,
                null,
                null,
                156000,
                112050,
                null,
                59000,
                null,
                null,
                null,
                35796,
                null,
                null,
                null,
                35796,
                null,
                null,
                null,
                219000,
                null,
                null,
                null,
                159982,
                150000,
                207125,
                null,
                null,
                null,
                null,
                null,
                null,
                null,
                null,
                null,
                136800,
                152650,
                null,
                null,
                null,
                49920,
                204000,
                null,
                121000,
                null,
                219000,
                172500,
                161200,
                118000,
                null,
                87046,
                null,
                160000,
                133900,
                155000,
                null,
                null,
                155000,
                null,
                null,
                null,
                null,
                null,
                null
               ]
              ]
             },
             {
              "yaxis": {
               "title": "Salaries for Bachelor's Holders"
              }
             }
            ],
            "label": "Bachelor's",
            "method": "update"
           },
           {
            "args": [
             {
              "y": [
               [
                55526,
                134500,
                null,
                null,
                null,
                null,
                null,
                134000,
                null,
                null,
                null,
                null,
                134500,
                null,
                null,
                120000,
                85000,
                null,
                null,
                222000,
                null,
                null,
                null,
                null,
                112500,
                180250,
                null,
                null,
                null,
                null,
                134000,
                136284,
                180000,
                null,
                null,
                130000,
                152650,
                null
               ],
               [
                180000,
                null,
                null,
                null,
                null,
                null,
                null,
                null,
                null,
                120000,
                null,
                null,
                null,
                null,
                null,
                null,
                null,
                null,
                null,
                null,
                null,
                null,
                null,
                null,
                null,
                null,
                null,
                152650,
                null,
                null,
                119550,
                null,
                122500,
                119550,
                null,
                null,
                125450,
                119550,
                150000,
                null,
                null,
                49920,
                null,
                null,
                null,
                null,
                null,
                null,
                152650,
                null,
                49920,
                93600,
                282220,
                282220,
                null,
                null,
                119550,
                null,
                null,
                188000,
                null,
                180000,
                49920,
                null,
                null,
                null,
                null,
                null,
                null,
                25000,
                null,
                null,
                null,
                135500,
                null,
                null,
                null,
                150000,
                150000,
                49920,
                null,
                null,
                150000,
                null,
                null,
                null,
                null,
                null,
                null,
                null,
                null,
                null,
                null,
                286250,
                null,
                null,
                null,
                135500,
                null,
                null,
                null,
                49920,
                180000,
                null,
                null,
                null,
                null,
                87549,
                null,
                null,
                49920,
                145600,
                null,
                150000,
                152650,
                null,
                null,
                null,
                null,
                null,
                null,
                null,
                55500,
                49920,
                null,
                null,
                78517,
                65000,
                188000,
                null,
                null,
                null,
                114870,
                null,
                157175,
                null,
                null,
                null,
                null,
                152000,
                null,
                null,
                null,
                null,
                null,
                206000,
                170560,
                null,
                null,
                null,
                null,
                null,
                25000,
                null,
                null,
                null,
                null,
                null,
                null,
                157175,
                205000,
                null
               ]
              ]
             },
             {
              "yaxis": {
               "title": "Salaries for Master's Holders"
              }
             }
            ],
            "label": "Master's",
            "method": "update"
           },
           {
            "args": [
             {
              "y": [
               [
                155000,
                null,
                167500,
                155000,
                null,
                null,
                175000,
                150000,
                null,
                155000,
                null,
                297500,
                207125,
                167500,
                86000,
                135000,
                175000,
                null,
                null,
                165000,
                207125,
                null,
                null
               ],
               [
                null,
                null,
                null,
                null,
                null,
                145500,
                114400,
                null,
                null,
                null,
                null,
                null,
                null,
                null,
                null,
                219500,
                null,
                null,
                245000,
                null,
                null,
                null,
                157500,
                null,
                112000,
                163500,
                150000,
                null,
                207000,
                186000,
                160250,
                110000,
                null,
                null,
                112000,
                null,
                null,
                114400,
                null,
                null,
                112000,
                null,
                null,
                186000,
                null,
                null,
                null,
                null,
                null,
                108540,
                49920,
                null,
                100000,
                null,
                null,
                125000,
                null,
                null,
                186000,
                null,
                null,
                186000,
                245000,
                300000,
                null,
                null,
                186000,
                245000,
                202550,
                null,
                null,
                null,
                null,
                156900,
                135200,
                null,
                null,
                207000,
                245000,
                null,
                null,
                null,
                null,
                186000,
                180000,
                null,
                120600,
                112000,
                100000,
                160250,
                190000,
                null,
                null,
                null,
                null,
                90000,
                49920,
                207000,
                null,
                157500,
                49920,
                164000,
                186000,
                null,
                null,
                null,
                null,
                null,
                null,
                null,
                null,
                49920,
                null,
                null,
                117782,
                null,
                186000,
                null,
                106080,
                null,
                124400,
                null,
                null,
                null,
                253000,
                null,
                186000,
                null,
                108540,
                219500,
                180000,
                null,
                null,
                null,
                186000,
                110000,
                null,
                155000,
                253000,
                null,
                null,
                null,
                null,
                null,
                null,
                null,
                null,
                null,
                null,
                117660,
                null,
                null,
                null,
                null,
                null,
                125000,
                null,
                253000
               ]
              ]
             },
             {
              "yaxis": {
               "title": "Salaries for PhD Holders"
              }
             }
            ],
            "label": "PhD",
            "method": "update"
           }
          ],
          "direction": "down",
          "showactive": true,
          "x": 1,
          "y": 1.2
         }
        ],
        "xaxis": {
         "title": {
          "text": "Work Remotely?"
         }
        },
        "yaxis": {
         "title": {
          "text": "Salaries for Bachelor's Holders"
         }
        }
       }
      }
     },
     "metadata": {},
     "output_type": "display_data"
    }
   ],
   "source": [
    "\n",
    "# Group the data by 'remote'\n",
    "grouped_df = df.groupby('remote')\n",
    "\n",
    "# Create the figure object\n",
    "fig = go.Figure()\n",
    "\n",
    "# Add the box traces for the remote groups\n",
    "for remote, group_df in grouped_df:\n",
    "    fig.add_trace(go.Box(\n",
    "        y=group_df.loc[group_df['remote'] == remote, 'salary'],\n",
    "        name=str(remote),\n",
    "        marker_color='indianred' if remote else 'lightseagreen'))\n",
    "\n",
    "# Create the dropdown menu options\n",
    "dropdown_options = [\n",
    "    {'label': 'Remote', 'value': 'remote'},\n",
    "    {'label': \"Bachelor's\", 'value': \"Bachelor's\"},\n",
    "    {'label': \"Master's\", 'value': \"Master's\"},\n",
    "    {'label': 'PhD', 'value': 'PhD'}\n",
    "]\n",
    "\n",
    "# Define the update menu\n",
    "updatemenu = go.layout.Updatemenu(\n",
    "    buttons=[\n",
    "        dict(label=option['label'],\n",
    "             method='update',\n",
    "             args=[{'y': [df.loc[(df['remote'] == True) & (df['degree'] == option['value']), 'salary'],\n",
    "                           df.loc[(df['remote'] == False) & (df['degree'] == option['value']), 'salary']]},\n",
    "                   {'yaxis': {'title': 'Salaries for {} Holders'.format(option['value'])}}])\n",
    "        for option in dropdown_options[1:]\n",
    "    ],\n",
    "    direction='down',\n",
    "    showactive=True,\n",
    "    x=1,\n",
    "    y=1.2\n",
    ")\n",
    "\n",
    "# Add the updatemenu to the layout\n",
    "fig.update_layout(updatemenus=[updatemenu])\n",
    "\n",
    "# Define the layout\n",
    "fig.update_layout(\n",
    "    title='Salaries by Remote Work Status, for Different Degree Holders',\n",
    "    xaxis=dict(title='Work Remotely?'),\n",
    "    yaxis=dict(title='Salaries for Bachelor\\'s Holders'),\n",
    "    template=\"plotly_dark\"\n",
    ")\n",
    "\n",
    "# Show the figure\n",
    "fig.show()\n"
   ]
  },
  {
   "cell_type": "code",
   "execution_count": 43,
   "metadata": {},
   "outputs": [
    {
     "data": {
      "text/plain": [
       "blockchain                      90\n",
       "natural language processing     90\n",
       "big data and cloud computing    90\n",
       "data analyst                    90\n",
       "machine learning                90\n",
       "reinforcement learning          90\n",
       "neural networks                 90\n",
       "deep learning                   90\n",
       "data scientist                  90\n",
       "time series analysis             7\n",
       "time series                      6\n",
       "Name: query, dtype: int64"
      ]
     },
     "execution_count": 43,
     "metadata": {},
     "output_type": "execute_result"
    }
   ],
   "source": [
    "df['query'].value_counts()"
   ]
  },
  {
   "cell_type": "code",
   "execution_count": 56,
   "metadata": {},
   "outputs": [],
   "source": [
    "def capitalize_words_except_and(s):\n",
    "    return ' '.join(word if word == 'and' else word.title() for word in s.split())\n",
    "\n",
    "# Apply the function to the 'query' column\n",
    "df['query'] = df['query'].apply(capitalize_words_except_and)"
   ]
  },
  {
   "cell_type": "code",
   "execution_count": 75,
   "metadata": {},
   "outputs": [
    {
     "data": {
      "application/vnd.plotly.v1+json": {
       "config": {
        "plotlyServerURL": "https://plot.ly"
       },
       "data": [
        {
         "hovertemplate": "Query: %{label}<br>Count: %{value}",
         "labels": [
          "Blockchain",
          "Natural Language Processing",
          "Big Data and Cloud Computing",
          "Data Analyst",
          "Machine Learning",
          "Reinforcement Learning",
          "Neural Networks",
          "Deep Learning",
          "Data Scientist",
          "Time Series Analysis",
          "Time Series"
         ],
         "name": "",
         "type": "pie",
         "values": [
          90,
          90,
          90,
          90,
          90,
          90,
          90,
          90,
          90,
          7,
          6
         ]
        }
       ],
       "layout": {
        "template": {
         "data": {
          "bar": [
           {
            "error_x": {
             "color": "#f2f5fa"
            },
            "error_y": {
             "color": "#f2f5fa"
            },
            "marker": {
             "line": {
              "color": "rgb(17,17,17)",
              "width": 0.5
             },
             "pattern": {
              "fillmode": "overlay",
              "size": 10,
              "solidity": 0.2
             }
            },
            "type": "bar"
           }
          ],
          "barpolar": [
           {
            "marker": {
             "line": {
              "color": "rgb(17,17,17)",
              "width": 0.5
             },
             "pattern": {
              "fillmode": "overlay",
              "size": 10,
              "solidity": 0.2
             }
            },
            "type": "barpolar"
           }
          ],
          "carpet": [
           {
            "aaxis": {
             "endlinecolor": "#A2B1C6",
             "gridcolor": "#506784",
             "linecolor": "#506784",
             "minorgridcolor": "#506784",
             "startlinecolor": "#A2B1C6"
            },
            "baxis": {
             "endlinecolor": "#A2B1C6",
             "gridcolor": "#506784",
             "linecolor": "#506784",
             "minorgridcolor": "#506784",
             "startlinecolor": "#A2B1C6"
            },
            "type": "carpet"
           }
          ],
          "choropleth": [
           {
            "colorbar": {
             "outlinewidth": 0,
             "ticks": ""
            },
            "type": "choropleth"
           }
          ],
          "contour": [
           {
            "colorbar": {
             "outlinewidth": 0,
             "ticks": ""
            },
            "colorscale": [
             [
              0,
              "#0d0887"
             ],
             [
              0.1111111111111111,
              "#46039f"
             ],
             [
              0.2222222222222222,
              "#7201a8"
             ],
             [
              0.3333333333333333,
              "#9c179e"
             ],
             [
              0.4444444444444444,
              "#bd3786"
             ],
             [
              0.5555555555555556,
              "#d8576b"
             ],
             [
              0.6666666666666666,
              "#ed7953"
             ],
             [
              0.7777777777777778,
              "#fb9f3a"
             ],
             [
              0.8888888888888888,
              "#fdca26"
             ],
             [
              1,
              "#f0f921"
             ]
            ],
            "type": "contour"
           }
          ],
          "contourcarpet": [
           {
            "colorbar": {
             "outlinewidth": 0,
             "ticks": ""
            },
            "type": "contourcarpet"
           }
          ],
          "heatmap": [
           {
            "colorbar": {
             "outlinewidth": 0,
             "ticks": ""
            },
            "colorscale": [
             [
              0,
              "#0d0887"
             ],
             [
              0.1111111111111111,
              "#46039f"
             ],
             [
              0.2222222222222222,
              "#7201a8"
             ],
             [
              0.3333333333333333,
              "#9c179e"
             ],
             [
              0.4444444444444444,
              "#bd3786"
             ],
             [
              0.5555555555555556,
              "#d8576b"
             ],
             [
              0.6666666666666666,
              "#ed7953"
             ],
             [
              0.7777777777777778,
              "#fb9f3a"
             ],
             [
              0.8888888888888888,
              "#fdca26"
             ],
             [
              1,
              "#f0f921"
             ]
            ],
            "type": "heatmap"
           }
          ],
          "heatmapgl": [
           {
            "colorbar": {
             "outlinewidth": 0,
             "ticks": ""
            },
            "colorscale": [
             [
              0,
              "#0d0887"
             ],
             [
              0.1111111111111111,
              "#46039f"
             ],
             [
              0.2222222222222222,
              "#7201a8"
             ],
             [
              0.3333333333333333,
              "#9c179e"
             ],
             [
              0.4444444444444444,
              "#bd3786"
             ],
             [
              0.5555555555555556,
              "#d8576b"
             ],
             [
              0.6666666666666666,
              "#ed7953"
             ],
             [
              0.7777777777777778,
              "#fb9f3a"
             ],
             [
              0.8888888888888888,
              "#fdca26"
             ],
             [
              1,
              "#f0f921"
             ]
            ],
            "type": "heatmapgl"
           }
          ],
          "histogram": [
           {
            "marker": {
             "pattern": {
              "fillmode": "overlay",
              "size": 10,
              "solidity": 0.2
             }
            },
            "type": "histogram"
           }
          ],
          "histogram2d": [
           {
            "colorbar": {
             "outlinewidth": 0,
             "ticks": ""
            },
            "colorscale": [
             [
              0,
              "#0d0887"
             ],
             [
              0.1111111111111111,
              "#46039f"
             ],
             [
              0.2222222222222222,
              "#7201a8"
             ],
             [
              0.3333333333333333,
              "#9c179e"
             ],
             [
              0.4444444444444444,
              "#bd3786"
             ],
             [
              0.5555555555555556,
              "#d8576b"
             ],
             [
              0.6666666666666666,
              "#ed7953"
             ],
             [
              0.7777777777777778,
              "#fb9f3a"
             ],
             [
              0.8888888888888888,
              "#fdca26"
             ],
             [
              1,
              "#f0f921"
             ]
            ],
            "type": "histogram2d"
           }
          ],
          "histogram2dcontour": [
           {
            "colorbar": {
             "outlinewidth": 0,
             "ticks": ""
            },
            "colorscale": [
             [
              0,
              "#0d0887"
             ],
             [
              0.1111111111111111,
              "#46039f"
             ],
             [
              0.2222222222222222,
              "#7201a8"
             ],
             [
              0.3333333333333333,
              "#9c179e"
             ],
             [
              0.4444444444444444,
              "#bd3786"
             ],
             [
              0.5555555555555556,
              "#d8576b"
             ],
             [
              0.6666666666666666,
              "#ed7953"
             ],
             [
              0.7777777777777778,
              "#fb9f3a"
             ],
             [
              0.8888888888888888,
              "#fdca26"
             ],
             [
              1,
              "#f0f921"
             ]
            ],
            "type": "histogram2dcontour"
           }
          ],
          "mesh3d": [
           {
            "colorbar": {
             "outlinewidth": 0,
             "ticks": ""
            },
            "type": "mesh3d"
           }
          ],
          "parcoords": [
           {
            "line": {
             "colorbar": {
              "outlinewidth": 0,
              "ticks": ""
             }
            },
            "type": "parcoords"
           }
          ],
          "pie": [
           {
            "automargin": true,
            "type": "pie"
           }
          ],
          "scatter": [
           {
            "marker": {
             "line": {
              "color": "#283442"
             }
            },
            "type": "scatter"
           }
          ],
          "scatter3d": [
           {
            "line": {
             "colorbar": {
              "outlinewidth": 0,
              "ticks": ""
             }
            },
            "marker": {
             "colorbar": {
              "outlinewidth": 0,
              "ticks": ""
             }
            },
            "type": "scatter3d"
           }
          ],
          "scattercarpet": [
           {
            "marker": {
             "colorbar": {
              "outlinewidth": 0,
              "ticks": ""
             }
            },
            "type": "scattercarpet"
           }
          ],
          "scattergeo": [
           {
            "marker": {
             "colorbar": {
              "outlinewidth": 0,
              "ticks": ""
             }
            },
            "type": "scattergeo"
           }
          ],
          "scattergl": [
           {
            "marker": {
             "line": {
              "color": "#283442"
             }
            },
            "type": "scattergl"
           }
          ],
          "scattermapbox": [
           {
            "marker": {
             "colorbar": {
              "outlinewidth": 0,
              "ticks": ""
             }
            },
            "type": "scattermapbox"
           }
          ],
          "scatterpolar": [
           {
            "marker": {
             "colorbar": {
              "outlinewidth": 0,
              "ticks": ""
             }
            },
            "type": "scatterpolar"
           }
          ],
          "scatterpolargl": [
           {
            "marker": {
             "colorbar": {
              "outlinewidth": 0,
              "ticks": ""
             }
            },
            "type": "scatterpolargl"
           }
          ],
          "scatterternary": [
           {
            "marker": {
             "colorbar": {
              "outlinewidth": 0,
              "ticks": ""
             }
            },
            "type": "scatterternary"
           }
          ],
          "surface": [
           {
            "colorbar": {
             "outlinewidth": 0,
             "ticks": ""
            },
            "colorscale": [
             [
              0,
              "#0d0887"
             ],
             [
              0.1111111111111111,
              "#46039f"
             ],
             [
              0.2222222222222222,
              "#7201a8"
             ],
             [
              0.3333333333333333,
              "#9c179e"
             ],
             [
              0.4444444444444444,
              "#bd3786"
             ],
             [
              0.5555555555555556,
              "#d8576b"
             ],
             [
              0.6666666666666666,
              "#ed7953"
             ],
             [
              0.7777777777777778,
              "#fb9f3a"
             ],
             [
              0.8888888888888888,
              "#fdca26"
             ],
             [
              1,
              "#f0f921"
             ]
            ],
            "type": "surface"
           }
          ],
          "table": [
           {
            "cells": {
             "fill": {
              "color": "#506784"
             },
             "line": {
              "color": "rgb(17,17,17)"
             }
            },
            "header": {
             "fill": {
              "color": "#2a3f5f"
             },
             "line": {
              "color": "rgb(17,17,17)"
             }
            },
            "type": "table"
           }
          ]
         },
         "layout": {
          "annotationdefaults": {
           "arrowcolor": "#f2f5fa",
           "arrowhead": 0,
           "arrowwidth": 1
          },
          "autotypenumbers": "strict",
          "coloraxis": {
           "colorbar": {
            "outlinewidth": 0,
            "ticks": ""
           }
          },
          "colorscale": {
           "diverging": [
            [
             0,
             "#8e0152"
            ],
            [
             0.1,
             "#c51b7d"
            ],
            [
             0.2,
             "#de77ae"
            ],
            [
             0.3,
             "#f1b6da"
            ],
            [
             0.4,
             "#fde0ef"
            ],
            [
             0.5,
             "#f7f7f7"
            ],
            [
             0.6,
             "#e6f5d0"
            ],
            [
             0.7,
             "#b8e186"
            ],
            [
             0.8,
             "#7fbc41"
            ],
            [
             0.9,
             "#4d9221"
            ],
            [
             1,
             "#276419"
            ]
           ],
           "sequential": [
            [
             0,
             "#0d0887"
            ],
            [
             0.1111111111111111,
             "#46039f"
            ],
            [
             0.2222222222222222,
             "#7201a8"
            ],
            [
             0.3333333333333333,
             "#9c179e"
            ],
            [
             0.4444444444444444,
             "#bd3786"
            ],
            [
             0.5555555555555556,
             "#d8576b"
            ],
            [
             0.6666666666666666,
             "#ed7953"
            ],
            [
             0.7777777777777778,
             "#fb9f3a"
            ],
            [
             0.8888888888888888,
             "#fdca26"
            ],
            [
             1,
             "#f0f921"
            ]
           ],
           "sequentialminus": [
            [
             0,
             "#0d0887"
            ],
            [
             0.1111111111111111,
             "#46039f"
            ],
            [
             0.2222222222222222,
             "#7201a8"
            ],
            [
             0.3333333333333333,
             "#9c179e"
            ],
            [
             0.4444444444444444,
             "#bd3786"
            ],
            [
             0.5555555555555556,
             "#d8576b"
            ],
            [
             0.6666666666666666,
             "#ed7953"
            ],
            [
             0.7777777777777778,
             "#fb9f3a"
            ],
            [
             0.8888888888888888,
             "#fdca26"
            ],
            [
             1,
             "#f0f921"
            ]
           ]
          },
          "colorway": [
           "#636efa",
           "#EF553B",
           "#00cc96",
           "#ab63fa",
           "#FFA15A",
           "#19d3f3",
           "#FF6692",
           "#B6E880",
           "#FF97FF",
           "#FECB52"
          ],
          "font": {
           "color": "#f2f5fa"
          },
          "geo": {
           "bgcolor": "rgb(17,17,17)",
           "lakecolor": "rgb(17,17,17)",
           "landcolor": "rgb(17,17,17)",
           "showlakes": true,
           "showland": true,
           "subunitcolor": "#506784"
          },
          "hoverlabel": {
           "align": "left"
          },
          "hovermode": "closest",
          "mapbox": {
           "style": "dark"
          },
          "paper_bgcolor": "rgb(17,17,17)",
          "plot_bgcolor": "rgb(17,17,17)",
          "polar": {
           "angularaxis": {
            "gridcolor": "#506784",
            "linecolor": "#506784",
            "ticks": ""
           },
           "bgcolor": "rgb(17,17,17)",
           "radialaxis": {
            "gridcolor": "#506784",
            "linecolor": "#506784",
            "ticks": ""
           }
          },
          "scene": {
           "xaxis": {
            "backgroundcolor": "rgb(17,17,17)",
            "gridcolor": "#506784",
            "gridwidth": 2,
            "linecolor": "#506784",
            "showbackground": true,
            "ticks": "",
            "zerolinecolor": "#C8D4E3"
           },
           "yaxis": {
            "backgroundcolor": "rgb(17,17,17)",
            "gridcolor": "#506784",
            "gridwidth": 2,
            "linecolor": "#506784",
            "showbackground": true,
            "ticks": "",
            "zerolinecolor": "#C8D4E3"
           },
           "zaxis": {
            "backgroundcolor": "rgb(17,17,17)",
            "gridcolor": "#506784",
            "gridwidth": 2,
            "linecolor": "#506784",
            "showbackground": true,
            "ticks": "",
            "zerolinecolor": "#C8D4E3"
           }
          },
          "shapedefaults": {
           "line": {
            "color": "#f2f5fa"
           }
          },
          "sliderdefaults": {
           "bgcolor": "#C8D4E3",
           "bordercolor": "rgb(17,17,17)",
           "borderwidth": 1,
           "tickwidth": 0
          },
          "ternary": {
           "aaxis": {
            "gridcolor": "#506784",
            "linecolor": "#506784",
            "ticks": ""
           },
           "baxis": {
            "gridcolor": "#506784",
            "linecolor": "#506784",
            "ticks": ""
           },
           "bgcolor": "rgb(17,17,17)",
           "caxis": {
            "gridcolor": "#506784",
            "linecolor": "#506784",
            "ticks": ""
           }
          },
          "title": {
           "x": 0.05
          },
          "updatemenudefaults": {
           "bgcolor": "#506784",
           "borderwidth": 0
          },
          "xaxis": {
           "automargin": true,
           "gridcolor": "#283442",
           "linecolor": "#506784",
           "ticks": "",
           "title": {
            "standoff": 15
           },
           "zerolinecolor": "#283442",
           "zerolinewidth": 2
          },
          "yaxis": {
           "automargin": true,
           "gridcolor": "#283442",
           "linecolor": "#506784",
           "ticks": "",
           "title": {
            "standoff": 15
           },
           "zerolinecolor": "#283442",
           "zerolinewidth": 2
          }
         }
        },
        "title": {
         "text": "Percentage of Job Results, by Query"
        },
        "width": 800
       }
      }
     },
     "metadata": {},
     "output_type": "display_data"
    }
   ],
   "source": [
    "# Count the number of jobs for each query\n",
    "query_counts = df['query'].value_counts()\n",
    "\n",
    "# Create the pie chart trace\n",
    "pie_trace = go.Pie(\n",
    "    labels=query_counts.index.tolist(),\n",
    "    values=query_counts.tolist(),\n",
    "    hovertemplate='Query: %{label}<br>Count: %{value}',\n",
    "    name = \"\"\n",
    ")\n",
    "\n",
    "# Create the layout for the pie chart\n",
    "layout = go.Layout(\n",
    "    title='Percentage of Job Results, by Query',\n",
    "    width = 800,\n",
    "    template=\"plotly_dark\"\n",
    ")\n",
    "\n",
    "# Create the figure object\n",
    "fig = go.Figure(data=[pie_trace], layout=layout)\n",
    "\n",
    "# Facet the pie chart by the 'query' column\n",
    "#fig.for_each_trace(lambda trace: trace.update(title=''))\n",
    "\n",
    "# Display the figure\n",
    "fig.show()\n"
   ]
  },
  {
   "cell_type": "code",
   "execution_count": 77,
   "metadata": {},
   "outputs": [
    {
     "data": {
      "application/vnd.plotly.v1+json": {
       "config": {
        "plotlyServerURL": "https://plot.ly"
       },
       "data": [
        {
         "hovertemplate": "Query: %{x} <br>Count: %{y}",
         "marker": {
          "color": "rgb(31, 119, 180)"
         },
         "name": "Bachelor's",
         "type": "bar",
         "x": [
          "Big Data and Cloud Computing",
          "Blockchain",
          "Data Analyst",
          "Data Scientist",
          "Deep Learning",
          "Machine Learning",
          "Natural Language Processing",
          "Neural Networks",
          "Reinforcement Learning"
         ],
         "y": [
          21,
          23,
          33,
          19,
          18,
          20,
          9,
          4,
          8
         ]
        },
        {
         "hovertemplate": "Query: %{x} <br>Count: %{y}",
         "marker": {
          "color": "rgb(255, 127, 14)"
         },
         "name": "Master's",
         "type": "bar",
         "x": [
          "Big Data and Cloud Computing",
          "Blockchain",
          "Data Analyst",
          "Data Scientist",
          "Deep Learning",
          "Machine Learning",
          "Natural Language Processing",
          "Neural Networks",
          "Reinforcement Learning",
          "Time Series",
          "Time Series Analysis"
         ],
         "y": [
          43,
          9,
          38,
          36,
          14,
          14,
          13,
          11,
          16,
          3,
          3
         ]
        },
        {
         "hovertemplate": "Query: %{x} <br>Count: %{y}",
         "marker": {
          "color": "rgb(44, 160, 44)"
         },
         "name": "PhD",
         "type": "bar",
         "x": [
          "Data Analyst",
          "Data Scientist",
          "Deep Learning",
          "Machine Learning",
          "Natural Language Processing",
          "Neural Networks",
          "Reinforcement Learning",
          "Time Series Analysis"
         ],
         "y": [
          4,
          11,
          31,
          28,
          37,
          29,
          39,
          2
         ]
        }
       ],
       "layout": {
        "barmode": "group",
        "template": {
         "data": {
          "bar": [
           {
            "error_x": {
             "color": "#f2f5fa"
            },
            "error_y": {
             "color": "#f2f5fa"
            },
            "marker": {
             "line": {
              "color": "rgb(17,17,17)",
              "width": 0.5
             },
             "pattern": {
              "fillmode": "overlay",
              "size": 10,
              "solidity": 0.2
             }
            },
            "type": "bar"
           }
          ],
          "barpolar": [
           {
            "marker": {
             "line": {
              "color": "rgb(17,17,17)",
              "width": 0.5
             },
             "pattern": {
              "fillmode": "overlay",
              "size": 10,
              "solidity": 0.2
             }
            },
            "type": "barpolar"
           }
          ],
          "carpet": [
           {
            "aaxis": {
             "endlinecolor": "#A2B1C6",
             "gridcolor": "#506784",
             "linecolor": "#506784",
             "minorgridcolor": "#506784",
             "startlinecolor": "#A2B1C6"
            },
            "baxis": {
             "endlinecolor": "#A2B1C6",
             "gridcolor": "#506784",
             "linecolor": "#506784",
             "minorgridcolor": "#506784",
             "startlinecolor": "#A2B1C6"
            },
            "type": "carpet"
           }
          ],
          "choropleth": [
           {
            "colorbar": {
             "outlinewidth": 0,
             "ticks": ""
            },
            "type": "choropleth"
           }
          ],
          "contour": [
           {
            "colorbar": {
             "outlinewidth": 0,
             "ticks": ""
            },
            "colorscale": [
             [
              0,
              "#0d0887"
             ],
             [
              0.1111111111111111,
              "#46039f"
             ],
             [
              0.2222222222222222,
              "#7201a8"
             ],
             [
              0.3333333333333333,
              "#9c179e"
             ],
             [
              0.4444444444444444,
              "#bd3786"
             ],
             [
              0.5555555555555556,
              "#d8576b"
             ],
             [
              0.6666666666666666,
              "#ed7953"
             ],
             [
              0.7777777777777778,
              "#fb9f3a"
             ],
             [
              0.8888888888888888,
              "#fdca26"
             ],
             [
              1,
              "#f0f921"
             ]
            ],
            "type": "contour"
           }
          ],
          "contourcarpet": [
           {
            "colorbar": {
             "outlinewidth": 0,
             "ticks": ""
            },
            "type": "contourcarpet"
           }
          ],
          "heatmap": [
           {
            "colorbar": {
             "outlinewidth": 0,
             "ticks": ""
            },
            "colorscale": [
             [
              0,
              "#0d0887"
             ],
             [
              0.1111111111111111,
              "#46039f"
             ],
             [
              0.2222222222222222,
              "#7201a8"
             ],
             [
              0.3333333333333333,
              "#9c179e"
             ],
             [
              0.4444444444444444,
              "#bd3786"
             ],
             [
              0.5555555555555556,
              "#d8576b"
             ],
             [
              0.6666666666666666,
              "#ed7953"
             ],
             [
              0.7777777777777778,
              "#fb9f3a"
             ],
             [
              0.8888888888888888,
              "#fdca26"
             ],
             [
              1,
              "#f0f921"
             ]
            ],
            "type": "heatmap"
           }
          ],
          "heatmapgl": [
           {
            "colorbar": {
             "outlinewidth": 0,
             "ticks": ""
            },
            "colorscale": [
             [
              0,
              "#0d0887"
             ],
             [
              0.1111111111111111,
              "#46039f"
             ],
             [
              0.2222222222222222,
              "#7201a8"
             ],
             [
              0.3333333333333333,
              "#9c179e"
             ],
             [
              0.4444444444444444,
              "#bd3786"
             ],
             [
              0.5555555555555556,
              "#d8576b"
             ],
             [
              0.6666666666666666,
              "#ed7953"
             ],
             [
              0.7777777777777778,
              "#fb9f3a"
             ],
             [
              0.8888888888888888,
              "#fdca26"
             ],
             [
              1,
              "#f0f921"
             ]
            ],
            "type": "heatmapgl"
           }
          ],
          "histogram": [
           {
            "marker": {
             "pattern": {
              "fillmode": "overlay",
              "size": 10,
              "solidity": 0.2
             }
            },
            "type": "histogram"
           }
          ],
          "histogram2d": [
           {
            "colorbar": {
             "outlinewidth": 0,
             "ticks": ""
            },
            "colorscale": [
             [
              0,
              "#0d0887"
             ],
             [
              0.1111111111111111,
              "#46039f"
             ],
             [
              0.2222222222222222,
              "#7201a8"
             ],
             [
              0.3333333333333333,
              "#9c179e"
             ],
             [
              0.4444444444444444,
              "#bd3786"
             ],
             [
              0.5555555555555556,
              "#d8576b"
             ],
             [
              0.6666666666666666,
              "#ed7953"
             ],
             [
              0.7777777777777778,
              "#fb9f3a"
             ],
             [
              0.8888888888888888,
              "#fdca26"
             ],
             [
              1,
              "#f0f921"
             ]
            ],
            "type": "histogram2d"
           }
          ],
          "histogram2dcontour": [
           {
            "colorbar": {
             "outlinewidth": 0,
             "ticks": ""
            },
            "colorscale": [
             [
              0,
              "#0d0887"
             ],
             [
              0.1111111111111111,
              "#46039f"
             ],
             [
              0.2222222222222222,
              "#7201a8"
             ],
             [
              0.3333333333333333,
              "#9c179e"
             ],
             [
              0.4444444444444444,
              "#bd3786"
             ],
             [
              0.5555555555555556,
              "#d8576b"
             ],
             [
              0.6666666666666666,
              "#ed7953"
             ],
             [
              0.7777777777777778,
              "#fb9f3a"
             ],
             [
              0.8888888888888888,
              "#fdca26"
             ],
             [
              1,
              "#f0f921"
             ]
            ],
            "type": "histogram2dcontour"
           }
          ],
          "mesh3d": [
           {
            "colorbar": {
             "outlinewidth": 0,
             "ticks": ""
            },
            "type": "mesh3d"
           }
          ],
          "parcoords": [
           {
            "line": {
             "colorbar": {
              "outlinewidth": 0,
              "ticks": ""
             }
            },
            "type": "parcoords"
           }
          ],
          "pie": [
           {
            "automargin": true,
            "type": "pie"
           }
          ],
          "scatter": [
           {
            "marker": {
             "line": {
              "color": "#283442"
             }
            },
            "type": "scatter"
           }
          ],
          "scatter3d": [
           {
            "line": {
             "colorbar": {
              "outlinewidth": 0,
              "ticks": ""
             }
            },
            "marker": {
             "colorbar": {
              "outlinewidth": 0,
              "ticks": ""
             }
            },
            "type": "scatter3d"
           }
          ],
          "scattercarpet": [
           {
            "marker": {
             "colorbar": {
              "outlinewidth": 0,
              "ticks": ""
             }
            },
            "type": "scattercarpet"
           }
          ],
          "scattergeo": [
           {
            "marker": {
             "colorbar": {
              "outlinewidth": 0,
              "ticks": ""
             }
            },
            "type": "scattergeo"
           }
          ],
          "scattergl": [
           {
            "marker": {
             "line": {
              "color": "#283442"
             }
            },
            "type": "scattergl"
           }
          ],
          "scattermapbox": [
           {
            "marker": {
             "colorbar": {
              "outlinewidth": 0,
              "ticks": ""
             }
            },
            "type": "scattermapbox"
           }
          ],
          "scatterpolar": [
           {
            "marker": {
             "colorbar": {
              "outlinewidth": 0,
              "ticks": ""
             }
            },
            "type": "scatterpolar"
           }
          ],
          "scatterpolargl": [
           {
            "marker": {
             "colorbar": {
              "outlinewidth": 0,
              "ticks": ""
             }
            },
            "type": "scatterpolargl"
           }
          ],
          "scatterternary": [
           {
            "marker": {
             "colorbar": {
              "outlinewidth": 0,
              "ticks": ""
             }
            },
            "type": "scatterternary"
           }
          ],
          "surface": [
           {
            "colorbar": {
             "outlinewidth": 0,
             "ticks": ""
            },
            "colorscale": [
             [
              0,
              "#0d0887"
             ],
             [
              0.1111111111111111,
              "#46039f"
             ],
             [
              0.2222222222222222,
              "#7201a8"
             ],
             [
              0.3333333333333333,
              "#9c179e"
             ],
             [
              0.4444444444444444,
              "#bd3786"
             ],
             [
              0.5555555555555556,
              "#d8576b"
             ],
             [
              0.6666666666666666,
              "#ed7953"
             ],
             [
              0.7777777777777778,
              "#fb9f3a"
             ],
             [
              0.8888888888888888,
              "#fdca26"
             ],
             [
              1,
              "#f0f921"
             ]
            ],
            "type": "surface"
           }
          ],
          "table": [
           {
            "cells": {
             "fill": {
              "color": "#506784"
             },
             "line": {
              "color": "rgb(17,17,17)"
             }
            },
            "header": {
             "fill": {
              "color": "#2a3f5f"
             },
             "line": {
              "color": "rgb(17,17,17)"
             }
            },
            "type": "table"
           }
          ]
         },
         "layout": {
          "annotationdefaults": {
           "arrowcolor": "#f2f5fa",
           "arrowhead": 0,
           "arrowwidth": 1
          },
          "autotypenumbers": "strict",
          "coloraxis": {
           "colorbar": {
            "outlinewidth": 0,
            "ticks": ""
           }
          },
          "colorscale": {
           "diverging": [
            [
             0,
             "#8e0152"
            ],
            [
             0.1,
             "#c51b7d"
            ],
            [
             0.2,
             "#de77ae"
            ],
            [
             0.3,
             "#f1b6da"
            ],
            [
             0.4,
             "#fde0ef"
            ],
            [
             0.5,
             "#f7f7f7"
            ],
            [
             0.6,
             "#e6f5d0"
            ],
            [
             0.7,
             "#b8e186"
            ],
            [
             0.8,
             "#7fbc41"
            ],
            [
             0.9,
             "#4d9221"
            ],
            [
             1,
             "#276419"
            ]
           ],
           "sequential": [
            [
             0,
             "#0d0887"
            ],
            [
             0.1111111111111111,
             "#46039f"
            ],
            [
             0.2222222222222222,
             "#7201a8"
            ],
            [
             0.3333333333333333,
             "#9c179e"
            ],
            [
             0.4444444444444444,
             "#bd3786"
            ],
            [
             0.5555555555555556,
             "#d8576b"
            ],
            [
             0.6666666666666666,
             "#ed7953"
            ],
            [
             0.7777777777777778,
             "#fb9f3a"
            ],
            [
             0.8888888888888888,
             "#fdca26"
            ],
            [
             1,
             "#f0f921"
            ]
           ],
           "sequentialminus": [
            [
             0,
             "#0d0887"
            ],
            [
             0.1111111111111111,
             "#46039f"
            ],
            [
             0.2222222222222222,
             "#7201a8"
            ],
            [
             0.3333333333333333,
             "#9c179e"
            ],
            [
             0.4444444444444444,
             "#bd3786"
            ],
            [
             0.5555555555555556,
             "#d8576b"
            ],
            [
             0.6666666666666666,
             "#ed7953"
            ],
            [
             0.7777777777777778,
             "#fb9f3a"
            ],
            [
             0.8888888888888888,
             "#fdca26"
            ],
            [
             1,
             "#f0f921"
            ]
           ]
          },
          "colorway": [
           "#636efa",
           "#EF553B",
           "#00cc96",
           "#ab63fa",
           "#FFA15A",
           "#19d3f3",
           "#FF6692",
           "#B6E880",
           "#FF97FF",
           "#FECB52"
          ],
          "font": {
           "color": "#f2f5fa"
          },
          "geo": {
           "bgcolor": "rgb(17,17,17)",
           "lakecolor": "rgb(17,17,17)",
           "landcolor": "rgb(17,17,17)",
           "showlakes": true,
           "showland": true,
           "subunitcolor": "#506784"
          },
          "hoverlabel": {
           "align": "left"
          },
          "hovermode": "closest",
          "mapbox": {
           "style": "dark"
          },
          "paper_bgcolor": "rgb(17,17,17)",
          "plot_bgcolor": "rgb(17,17,17)",
          "polar": {
           "angularaxis": {
            "gridcolor": "#506784",
            "linecolor": "#506784",
            "ticks": ""
           },
           "bgcolor": "rgb(17,17,17)",
           "radialaxis": {
            "gridcolor": "#506784",
            "linecolor": "#506784",
            "ticks": ""
           }
          },
          "scene": {
           "xaxis": {
            "backgroundcolor": "rgb(17,17,17)",
            "gridcolor": "#506784",
            "gridwidth": 2,
            "linecolor": "#506784",
            "showbackground": true,
            "ticks": "",
            "zerolinecolor": "#C8D4E3"
           },
           "yaxis": {
            "backgroundcolor": "rgb(17,17,17)",
            "gridcolor": "#506784",
            "gridwidth": 2,
            "linecolor": "#506784",
            "showbackground": true,
            "ticks": "",
            "zerolinecolor": "#C8D4E3"
           },
           "zaxis": {
            "backgroundcolor": "rgb(17,17,17)",
            "gridcolor": "#506784",
            "gridwidth": 2,
            "linecolor": "#506784",
            "showbackground": true,
            "ticks": "",
            "zerolinecolor": "#C8D4E3"
           }
          },
          "shapedefaults": {
           "line": {
            "color": "#f2f5fa"
           }
          },
          "sliderdefaults": {
           "bgcolor": "#C8D4E3",
           "bordercolor": "rgb(17,17,17)",
           "borderwidth": 1,
           "tickwidth": 0
          },
          "ternary": {
           "aaxis": {
            "gridcolor": "#506784",
            "linecolor": "#506784",
            "ticks": ""
           },
           "baxis": {
            "gridcolor": "#506784",
            "linecolor": "#506784",
            "ticks": ""
           },
           "bgcolor": "rgb(17,17,17)",
           "caxis": {
            "gridcolor": "#506784",
            "linecolor": "#506784",
            "ticks": ""
           }
          },
          "title": {
           "x": 0.05
          },
          "updatemenudefaults": {
           "bgcolor": "#506784",
           "borderwidth": 0
          },
          "xaxis": {
           "automargin": true,
           "gridcolor": "#283442",
           "linecolor": "#506784",
           "ticks": "",
           "title": {
            "standoff": 15
           },
           "zerolinecolor": "#283442",
           "zerolinewidth": 2
          },
          "yaxis": {
           "automargin": true,
           "gridcolor": "#283442",
           "linecolor": "#506784",
           "ticks": "",
           "title": {
            "standoff": 15
           },
           "zerolinecolor": "#283442",
           "zerolinewidth": 2
          }
         }
        },
        "title": {
         "text": "Number of Job Results, by Query and Degree"
        },
        "xaxis": {
         "title": {
          "text": "Query"
         }
        },
        "yaxis": {
         "title": {
          "text": "Count"
         }
        }
       }
      }
     },
     "metadata": {},
     "output_type": "display_data"
    }
   ],
   "source": [
    "# group the data by query and degree, and count the number of jobs\n",
    "df_grouped = df.groupby(['query', 'degree']).size().reset_index(name='count')\n",
    "\n",
    "# define the colors for each degree\n",
    "colors = {'Bachelor\\'s': 'rgb(31, 119, 180)', 'Master\\'s': 'rgb(255, 127, 14)', 'PhD': 'rgb(44, 160, 44)'}\n",
    "\n",
    "# create a trace for each degree\n",
    "traces = []\n",
    "for degree in df_grouped['degree'].unique():\n",
    "    trace = go.Bar(\n",
    "        x=df_grouped[df_grouped['degree'] == degree]['query'],\n",
    "        y=df_grouped[df_grouped['degree'] == degree]['count'],\n",
    "        name=degree,\n",
    "        marker=dict(color=colors[degree]),\n",
    "        hovertemplate='Query: %{x} '+ '<br>Count: %{y}'\n",
    "    )\n",
    "    traces.append(trace)\n",
    "\n",
    "# set the layout for the chart\n",
    "layout = go.Layout(\n",
    "    title='Number of Job Results, by Query and Degree',\n",
    "    barmode='group',\n",
    "    template=\"plotly_dark\",\n",
    "    xaxis=dict(title='Query'),\n",
    "    yaxis=dict(title='Count')\n",
    ")\n",
    "\n",
    "# create the figure object and plot it\n",
    "fig = go.Figure(data=traces, layout=layout)\n",
    "fig.show()\n"
   ]
  },
  {
   "cell_type": "code",
   "execution_count": null,
   "metadata": {},
   "outputs": [],
   "source": []
  }
 ],
 "metadata": {
  "kernelspec": {
   "display_name": "anly503",
   "language": "python",
   "name": "python3"
  },
  "language_info": {
   "codemirror_mode": {
    "name": "ipython",
    "version": 3
   },
   "file_extension": ".py",
   "mimetype": "text/x-python",
   "name": "python",
   "nbconvert_exporter": "python",
   "pygments_lexer": "ipython3",
   "version": "3.10.8"
  },
  "orig_nbformat": 4
 },
 "nbformat": 4,
 "nbformat_minor": 2
}
